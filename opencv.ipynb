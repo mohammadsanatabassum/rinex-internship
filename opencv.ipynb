{
 "cells": [
  {
   "cell_type": "code",
   "execution_count": 11,
   "id": "e6c35794",
   "metadata": {},
   "outputs": [
    {
     "name": "stdout",
     "output_type": "stream",
     "text": [
      "Requirement already satisfied: opencv-python in c:\\users\\moham\\anaconda3\\lib\\site-packages (4.10.0.84)\n",
      "Requirement already satisfied: numpy>=1.21.2 in c:\\users\\moham\\anaconda3\\lib\\site-packages (from opencv-python) (1.24.3)\n"
     ]
    }
   ],
   "source": [
    "!pip install opencv-python\n",
    "\n",
    "import cv2\n",
    "\n",
    "# Read the image from fig\n",
    "img = cv2.imread('C:\\\\Users\\\\moham\\\\OneDrive\\\\Desktop\\\\Documents\\\\Pictures\\\\sana1.jpg')\n",
    "\n",
    "# Display the image in a window\n",
    "cv2.imshow('Image', img)\n",
    "\n",
    "# Wait for a key press and close the image window\n",
    "cv2.waitKey(0)\n",
    "cv2.destroyAllWindows()\n"
   ]
  },
  {
   "cell_type": "code",
   "execution_count": 2,
   "id": "3cd9f3db",
   "metadata": {},
   "outputs": [],
   "source": [
    "# Resize the image to a specific width and height\n",
    "resized_img = cv2.resize(img, (400, 400))\n",
    "# Display the resized image\n",
    "cv2.imshow('Resized Image', resized_img)\n",
    "cv2.waitKey(0)\n",
    "cv2.destroyAllWindows()"
   ]
  },
  {
   "cell_type": "code",
   "execution_count": 3,
   "id": "612b3ccf",
   "metadata": {},
   "outputs": [],
   "source": [
    "# Convert the image to grayscale\n",
    "gray_img = cv2.cvtColor(img, cv2.COLOR_BGR2GRAY)\n",
    "\n",
    "# Display the grayscale image\n",
    "cv2.imshow('Grayscale Image', gray_img)\n",
    "cv2.waitKey(0)\n",
    "cv2.destroyAllWindows()\n"
   ]
  },
  {
   "cell_type": "code",
   "execution_count": 4,
   "id": "4f4fad6e",
   "metadata": {},
   "outputs": [],
   "source": [
    "# Apply Gaussian blur to the image\n",
    "blurred_img = cv2.GaussianBlur(img, (15, 15), 0)\n",
    "\n",
    "# Display the blurred image\n",
    "cv2.imshow('Blurred Image', blurred_img)\n",
    "cv2.waitKey(0)\n",
    "cv2.destroyAllWindows()\n"
   ]
  },
  {
   "cell_type": "code",
   "execution_count": 5,
   "id": "8cc2cf3a",
   "metadata": {},
   "outputs": [],
   "source": [
    "# Perform Canny edge detection\n",
    "edges = cv2.Canny(img, 100, 200)\n",
    "\n",
    "# Display the edges\n",
    "cv2.imshow('Edges', edges)\n",
    "cv2.waitKey(0)\n",
    "cv2.destroyAllWindows()\n"
   ]
  },
  {
   "cell_type": "code",
   "execution_count": 6,
   "id": "2f1b7478",
   "metadata": {},
   "outputs": [],
   "source": [
    "# Apply binary thresholding\n",
    "_, thresholded_img = cv2.threshold(gray_img, 127, 255, cv2.THRESH_BINARY)\n",
    "\n",
    "# Display the thresholded image\n",
    "cv2.imshow('Thresholded Image', thresholded_img)\n",
    "cv2.waitKey(0)\n",
    "cv2.destroyAllWindows()\n"
   ]
  },
  {
   "cell_type": "code",
   "execution_count": 7,
   "id": "b3e1eadd",
   "metadata": {},
   "outputs": [],
   "source": [
    "# Draw a rectangle on the image\n",
    "rect_img = img.copy()\n",
    "cv2.rectangle(rect_img, (50, 50), (200, 200), (0, 255, 0), 3)\n",
    "\n",
    "# Draw a circle on the image\n",
    "cv2.circle(rect_img, (300, 300), 50, (255, 0, 0), -1)\n",
    "\n",
    "# Display the image with shapes\n",
    "cv2.imshow('Image with Shapes', rect_img)\n",
    "cv2.waitKey(0)\n",
    "cv2.destroyAllWindows()\n"
   ]
  },
  {
   "cell_type": "code",
   "execution_count": 8,
   "id": "45aac918",
   "metadata": {},
   "outputs": [],
   "source": [
    "# Load the Haar Cascade for face detection\n",
    "face_cascade = cv2.CascadeClassifier(cv2.data.haarcascades + 'haarcascade_frontalface_default.xml')\n",
    "\n",
    "# Convert the image to grayscale (Haar Cascade works on grayscale images)\n",
    "gray_img = cv2.cvtColor(img, cv2.COLOR_BGR2GRAY)\n",
    "\n",
    "# Detect faces in the image\n",
    "faces = face_cascade.detectMultiScale(gray_img, scaleFactor=1.1, minNeighbors=5, minSize=(30, 30))\n",
    "\n",
    "# Draw rectangles around the detected faces\n",
    "for (x, y, w, h) in faces:\n",
    "    cv2.rectangle(img, (x, y), (x+w, y+h), (255, 0, 0), 2)\n",
    "\n",
    "# Display the image with faces detected\n",
    "cv2.imshow('Faces Detected', img)\n",
    "cv2.waitKey(0)\n",
    "cv2.destroyAllWindows()\n",
    "\n",
    "\n"
   ]
  },
  {
   "cell_type": "code",
   "execution_count": 9,
   "id": "41b1b8b6",
   "metadata": {},
   "outputs": [],
   "source": [
    "# Split the image into its blue, green, and red channels\n",
    "b, g, r = cv2.split(img)\n",
    "\n",
    "# Display the individual channels\n",
    "cv2.imshow('Blue Channel', b)\n",
    "cv2.imshow('Green Channel', g)\n",
    "cv2.imshow('Red Channel', r)\n",
    "cv2.waitKey(0)\n",
    "cv2.destroyAllWindows()\n"
   ]
  },
  {
   "cell_type": "code",
   "execution_count": 10,
   "id": "39e87a74",
   "metadata": {},
   "outputs": [],
   "source": [
    "# Get the image dimensions\n",
    "(h, w) = img.shape[:2]\n",
    "\n",
    "# Calculate the center of the image\n",
    "center = (w // 2, h // 2)\n",
    "\n",
    "# Define the rotation matrix\n",
    "M = cv2.getRotationMatrix2D(center, 45, 1.0)\n",
    "\n",
    "# Rotate the image\n",
    "rotated_img = cv2.warpAffine(img, M, (w, h))\n",
    "\n",
    "# Display the rotated image\n",
    "cv2.imshow('Rotated Image', rotated_img)\n",
    "cv2.waitKey(0)\n",
    "cv2.destroyAllWindows()\n"
   ]
  },
  {
   "cell_type": "code",
   "execution_count": null,
   "id": "113df4f2",
   "metadata": {},
   "outputs": [],
   "source": []
  },
  {
   "cell_type": "code",
   "execution_count": null,
   "id": "a417b67b",
   "metadata": {},
   "outputs": [],
   "source": []
  },
  {
   "cell_type": "code",
   "execution_count": null,
   "id": "d0b45690",
   "metadata": {},
   "outputs": [],
   "source": []
  }
 ],
 "metadata": {
  "kernelspec": {
   "display_name": "Python 3 (ipykernel)",
   "language": "python",
   "name": "python3"
  },
  "language_info": {
   "codemirror_mode": {
    "name": "ipython",
    "version": 3
   },
   "file_extension": ".py",
   "mimetype": "text/x-python",
   "name": "python",
   "nbconvert_exporter": "python",
   "pygments_lexer": "ipython3",
   "version": "3.11.5"
  }
 },
 "nbformat": 4,
 "nbformat_minor": 5
}
